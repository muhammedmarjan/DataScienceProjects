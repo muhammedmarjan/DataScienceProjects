{
 "cells": [
  {
   "cell_type": "code",
   "execution_count": 1,
   "metadata": {},
   "outputs": [],
   "source": [
    "import pandas as pd\n",
    "import numpy as np\n",
    "import seaborn as sns\n",
    "import matplotlib.pyplot as plt\n",
    "import warnings\n",
    "warnings.filterwarnings('ignore')"
   ]
  },
  {
   "cell_type": "code",
   "execution_count": 2,
   "metadata": {},
   "outputs": [],
   "source": [
    "Traindf=pd.read_excel('Data_Train.xlsx')"
   ]
  },
  {
   "cell_type": "code",
   "execution_count": 3,
   "metadata": {},
   "outputs": [
    {
     "data": {
      "text/html": [
       "<div>\n",
       "<style scoped>\n",
       "    .dataframe tbody tr th:only-of-type {\n",
       "        vertical-align: middle;\n",
       "    }\n",
       "\n",
       "    .dataframe tbody tr th {\n",
       "        vertical-align: top;\n",
       "    }\n",
       "\n",
       "    .dataframe thead th {\n",
       "        text-align: right;\n",
       "    }\n",
       "</style>\n",
       "<table border=\"1\" class=\"dataframe\">\n",
       "  <thead>\n",
       "    <tr style=\"text-align: right;\">\n",
       "      <th></th>\n",
       "      <th>TITLE</th>\n",
       "      <th>RESTAURANT_ID</th>\n",
       "      <th>CUISINES</th>\n",
       "      <th>TIME</th>\n",
       "      <th>CITY</th>\n",
       "      <th>LOCALITY</th>\n",
       "      <th>RATING</th>\n",
       "      <th>VOTES</th>\n",
       "      <th>COST</th>\n",
       "    </tr>\n",
       "  </thead>\n",
       "  <tbody>\n",
       "    <tr>\n",
       "      <th>0</th>\n",
       "      <td>CASUAL DINING</td>\n",
       "      <td>9438</td>\n",
       "      <td>Malwani, Goan, North Indian</td>\n",
       "      <td>11am – 4pm, 7:30pm – 11:30pm (Mon-Sun)</td>\n",
       "      <td>Thane</td>\n",
       "      <td>Dombivali East</td>\n",
       "      <td>3.6</td>\n",
       "      <td>49 votes</td>\n",
       "      <td>1200</td>\n",
       "    </tr>\n",
       "    <tr>\n",
       "      <th>1</th>\n",
       "      <td>CASUAL DINING,BAR</td>\n",
       "      <td>13198</td>\n",
       "      <td>Asian, Modern Indian, Japanese</td>\n",
       "      <td>6pm – 11pm (Mon-Sun)</td>\n",
       "      <td>Chennai</td>\n",
       "      <td>Ramapuram</td>\n",
       "      <td>4.2</td>\n",
       "      <td>30 votes</td>\n",
       "      <td>1500</td>\n",
       "    </tr>\n",
       "    <tr>\n",
       "      <th>2</th>\n",
       "      <td>CASUAL DINING</td>\n",
       "      <td>10915</td>\n",
       "      <td>North Indian, Chinese, Biryani, Hyderabadi</td>\n",
       "      <td>11am – 3:30pm, 7pm – 11pm (Mon-Sun)</td>\n",
       "      <td>Chennai</td>\n",
       "      <td>Saligramam</td>\n",
       "      <td>3.8</td>\n",
       "      <td>221 votes</td>\n",
       "      <td>800</td>\n",
       "    </tr>\n",
       "    <tr>\n",
       "      <th>3</th>\n",
       "      <td>QUICK BITES</td>\n",
       "      <td>6346</td>\n",
       "      <td>Tibetan, Chinese</td>\n",
       "      <td>11:30am – 1am (Mon-Sun)</td>\n",
       "      <td>Mumbai</td>\n",
       "      <td>Bandra West</td>\n",
       "      <td>4.1</td>\n",
       "      <td>24 votes</td>\n",
       "      <td>800</td>\n",
       "    </tr>\n",
       "    <tr>\n",
       "      <th>4</th>\n",
       "      <td>DESSERT PARLOR</td>\n",
       "      <td>15387</td>\n",
       "      <td>Desserts</td>\n",
       "      <td>11am – 1am (Mon-Sun)</td>\n",
       "      <td>Mumbai</td>\n",
       "      <td>Lower Parel</td>\n",
       "      <td>3.8</td>\n",
       "      <td>165 votes</td>\n",
       "      <td>300</td>\n",
       "    </tr>\n",
       "  </tbody>\n",
       "</table>\n",
       "</div>"
      ],
      "text/plain": [
       "               TITLE  RESTAURANT_ID  \\\n",
       "0      CASUAL DINING           9438   \n",
       "1  CASUAL DINING,BAR          13198   \n",
       "2      CASUAL DINING          10915   \n",
       "3        QUICK BITES           6346   \n",
       "4     DESSERT PARLOR          15387   \n",
       "\n",
       "                                     CUISINES  \\\n",
       "0                 Malwani, Goan, North Indian   \n",
       "1              Asian, Modern Indian, Japanese   \n",
       "2  North Indian, Chinese, Biryani, Hyderabadi   \n",
       "3                            Tibetan, Chinese   \n",
       "4                                    Desserts   \n",
       "\n",
       "                                     TIME     CITY        LOCALITY RATING  \\\n",
       "0  11am – 4pm, 7:30pm – 11:30pm (Mon-Sun)    Thane  Dombivali East    3.6   \n",
       "1                    6pm – 11pm (Mon-Sun)  Chennai       Ramapuram    4.2   \n",
       "2     11am – 3:30pm, 7pm – 11pm (Mon-Sun)  Chennai      Saligramam    3.8   \n",
       "3                 11:30am – 1am (Mon-Sun)   Mumbai     Bandra West    4.1   \n",
       "4                    11am – 1am (Mon-Sun)   Mumbai     Lower Parel    3.8   \n",
       "\n",
       "       VOTES  COST  \n",
       "0   49 votes  1200  \n",
       "1   30 votes  1500  \n",
       "2  221 votes   800  \n",
       "3   24 votes   800  \n",
       "4  165 votes   300  "
      ]
     },
     "execution_count": 3,
     "metadata": {},
     "output_type": "execute_result"
    }
   ],
   "source": [
    "Traindf.head()"
   ]
  },
  {
   "cell_type": "code",
   "execution_count": 4,
   "metadata": {},
   "outputs": [],
   "source": [
    "Testdf=pd.read_excel('Data_Test.xlsx')"
   ]
  },
  {
   "cell_type": "code",
   "execution_count": 5,
   "metadata": {},
   "outputs": [
    {
     "data": {
      "text/html": [
       "<div>\n",
       "<style scoped>\n",
       "    .dataframe tbody tr th:only-of-type {\n",
       "        vertical-align: middle;\n",
       "    }\n",
       "\n",
       "    .dataframe tbody tr th {\n",
       "        vertical-align: top;\n",
       "    }\n",
       "\n",
       "    .dataframe thead th {\n",
       "        text-align: right;\n",
       "    }\n",
       "</style>\n",
       "<table border=\"1\" class=\"dataframe\">\n",
       "  <thead>\n",
       "    <tr style=\"text-align: right;\">\n",
       "      <th></th>\n",
       "      <th>TITLE</th>\n",
       "      <th>RESTAURANT_ID</th>\n",
       "      <th>CUISINES</th>\n",
       "      <th>TIME</th>\n",
       "      <th>CITY</th>\n",
       "      <th>LOCALITY</th>\n",
       "      <th>RATING</th>\n",
       "      <th>VOTES</th>\n",
       "    </tr>\n",
       "  </thead>\n",
       "  <tbody>\n",
       "    <tr>\n",
       "      <th>0</th>\n",
       "      <td>CASUAL DINING</td>\n",
       "      <td>4085</td>\n",
       "      <td>North Indian, Chinese, Mughlai, Kebab</td>\n",
       "      <td>12noon – 12midnight (Mon-Sun)</td>\n",
       "      <td>Noida</td>\n",
       "      <td>Sector 18</td>\n",
       "      <td>4.3</td>\n",
       "      <td>564 votes</td>\n",
       "    </tr>\n",
       "    <tr>\n",
       "      <th>1</th>\n",
       "      <td>QUICK BITES</td>\n",
       "      <td>12680</td>\n",
       "      <td>South Indian, Fast Food, Pizza, North Indian</td>\n",
       "      <td>7am – 12:30AM (Mon-Sun)</td>\n",
       "      <td>Mumbai</td>\n",
       "      <td>Grant Road</td>\n",
       "      <td>4.2</td>\n",
       "      <td>61 votes</td>\n",
       "    </tr>\n",
       "    <tr>\n",
       "      <th>2</th>\n",
       "      <td>CASUAL DINING</td>\n",
       "      <td>1411</td>\n",
       "      <td>North Indian, Seafood, Biryani, Chinese</td>\n",
       "      <td>11am – 11:30pm (Mon-Sun)</td>\n",
       "      <td>Mumbai</td>\n",
       "      <td>Marine Lines</td>\n",
       "      <td>3.8</td>\n",
       "      <td>350 votes</td>\n",
       "    </tr>\n",
       "    <tr>\n",
       "      <th>3</th>\n",
       "      <td>None</td>\n",
       "      <td>204</td>\n",
       "      <td>Biryani</td>\n",
       "      <td>9am – 10pm (Mon, Wed, Thu, Fri, Sat, Sun), 10:...</td>\n",
       "      <td>Faridabad</td>\n",
       "      <td>NIT</td>\n",
       "      <td>3.8</td>\n",
       "      <td>1445 votes</td>\n",
       "    </tr>\n",
       "    <tr>\n",
       "      <th>4</th>\n",
       "      <td>QUICK BITES</td>\n",
       "      <td>13453</td>\n",
       "      <td>South Indian, Kerala</td>\n",
       "      <td>11am – 10pm (Mon-Sun)</td>\n",
       "      <td>Kochi</td>\n",
       "      <td>Kaloor</td>\n",
       "      <td>3.6</td>\n",
       "      <td>23 votes</td>\n",
       "    </tr>\n",
       "  </tbody>\n",
       "</table>\n",
       "</div>"
      ],
      "text/plain": [
       "           TITLE  RESTAURANT_ID                                      CUISINES  \\\n",
       "0  CASUAL DINING           4085         North Indian, Chinese, Mughlai, Kebab   \n",
       "1    QUICK BITES          12680  South Indian, Fast Food, Pizza, North Indian   \n",
       "2  CASUAL DINING           1411       North Indian, Seafood, Biryani, Chinese   \n",
       "3           None            204                                       Biryani   \n",
       "4    QUICK BITES          13453                          South Indian, Kerala   \n",
       "\n",
       "                                                TIME       CITY      LOCALITY  \\\n",
       "0                      12noon – 12midnight (Mon-Sun)      Noida     Sector 18   \n",
       "1                            7am – 12:30AM (Mon-Sun)     Mumbai    Grant Road   \n",
       "2                           11am – 11:30pm (Mon-Sun)     Mumbai  Marine Lines   \n",
       "3  9am – 10pm (Mon, Wed, Thu, Fri, Sat, Sun), 10:...  Faridabad           NIT   \n",
       "4                              11am – 10pm (Mon-Sun)      Kochi        Kaloor   \n",
       "\n",
       "  RATING       VOTES  \n",
       "0    4.3   564 votes  \n",
       "1    4.2    61 votes  \n",
       "2    3.8   350 votes  \n",
       "3    3.8  1445 votes  \n",
       "4    3.6    23 votes  "
      ]
     },
     "execution_count": 5,
     "metadata": {},
     "output_type": "execute_result"
    }
   ],
   "source": [
    "Testdf.head()"
   ]
  },
  {
   "cell_type": "code",
   "execution_count": 6,
   "metadata": {},
   "outputs": [],
   "source": [
    "Traindf[\"DATA\"] = \"train\"\n",
    "Testdf[\"DATA\"] = \"test\"\n",
    "Testdf[\"COST\"]=0"
   ]
  },
  {
   "cell_type": "code",
   "execution_count": 7,
   "metadata": {},
   "outputs": [],
   "source": [
    "df=pd.concat([Traindf,Testdf])"
   ]
  },
  {
   "cell_type": "code",
   "execution_count": 8,
   "metadata": {},
   "outputs": [
    {
     "data": {
      "text/html": [
       "<div>\n",
       "<style scoped>\n",
       "    .dataframe tbody tr th:only-of-type {\n",
       "        vertical-align: middle;\n",
       "    }\n",
       "\n",
       "    .dataframe tbody tr th {\n",
       "        vertical-align: top;\n",
       "    }\n",
       "\n",
       "    .dataframe thead th {\n",
       "        text-align: right;\n",
       "    }\n",
       "</style>\n",
       "<table border=\"1\" class=\"dataframe\">\n",
       "  <thead>\n",
       "    <tr style=\"text-align: right;\">\n",
       "      <th></th>\n",
       "      <th>TITLE</th>\n",
       "      <th>RESTAURANT_ID</th>\n",
       "      <th>CUISINES</th>\n",
       "      <th>TIME</th>\n",
       "      <th>CITY</th>\n",
       "      <th>LOCALITY</th>\n",
       "      <th>RATING</th>\n",
       "      <th>VOTES</th>\n",
       "      <th>COST</th>\n",
       "      <th>DATA</th>\n",
       "    </tr>\n",
       "  </thead>\n",
       "  <tbody>\n",
       "    <tr>\n",
       "      <th>0</th>\n",
       "      <td>CASUAL DINING</td>\n",
       "      <td>9438</td>\n",
       "      <td>Malwani, Goan, North Indian</td>\n",
       "      <td>11am – 4pm, 7:30pm – 11:30pm (Mon-Sun)</td>\n",
       "      <td>Thane</td>\n",
       "      <td>Dombivali East</td>\n",
       "      <td>3.6</td>\n",
       "      <td>49 votes</td>\n",
       "      <td>1200</td>\n",
       "      <td>train</td>\n",
       "    </tr>\n",
       "    <tr>\n",
       "      <th>1</th>\n",
       "      <td>CASUAL DINING,BAR</td>\n",
       "      <td>13198</td>\n",
       "      <td>Asian, Modern Indian, Japanese</td>\n",
       "      <td>6pm – 11pm (Mon-Sun)</td>\n",
       "      <td>Chennai</td>\n",
       "      <td>Ramapuram</td>\n",
       "      <td>4.2</td>\n",
       "      <td>30 votes</td>\n",
       "      <td>1500</td>\n",
       "      <td>train</td>\n",
       "    </tr>\n",
       "    <tr>\n",
       "      <th>2</th>\n",
       "      <td>CASUAL DINING</td>\n",
       "      <td>10915</td>\n",
       "      <td>North Indian, Chinese, Biryani, Hyderabadi</td>\n",
       "      <td>11am – 3:30pm, 7pm – 11pm (Mon-Sun)</td>\n",
       "      <td>Chennai</td>\n",
       "      <td>Saligramam</td>\n",
       "      <td>3.8</td>\n",
       "      <td>221 votes</td>\n",
       "      <td>800</td>\n",
       "      <td>train</td>\n",
       "    </tr>\n",
       "    <tr>\n",
       "      <th>3</th>\n",
       "      <td>QUICK BITES</td>\n",
       "      <td>6346</td>\n",
       "      <td>Tibetan, Chinese</td>\n",
       "      <td>11:30am – 1am (Mon-Sun)</td>\n",
       "      <td>Mumbai</td>\n",
       "      <td>Bandra West</td>\n",
       "      <td>4.1</td>\n",
       "      <td>24 votes</td>\n",
       "      <td>800</td>\n",
       "      <td>train</td>\n",
       "    </tr>\n",
       "    <tr>\n",
       "      <th>4</th>\n",
       "      <td>DESSERT PARLOR</td>\n",
       "      <td>15387</td>\n",
       "      <td>Desserts</td>\n",
       "      <td>11am – 1am (Mon-Sun)</td>\n",
       "      <td>Mumbai</td>\n",
       "      <td>Lower Parel</td>\n",
       "      <td>3.8</td>\n",
       "      <td>165 votes</td>\n",
       "      <td>300</td>\n",
       "      <td>train</td>\n",
       "    </tr>\n",
       "  </tbody>\n",
       "</table>\n",
       "</div>"
      ],
      "text/plain": [
       "               TITLE  RESTAURANT_ID  \\\n",
       "0      CASUAL DINING           9438   \n",
       "1  CASUAL DINING,BAR          13198   \n",
       "2      CASUAL DINING          10915   \n",
       "3        QUICK BITES           6346   \n",
       "4     DESSERT PARLOR          15387   \n",
       "\n",
       "                                     CUISINES  \\\n",
       "0                 Malwani, Goan, North Indian   \n",
       "1              Asian, Modern Indian, Japanese   \n",
       "2  North Indian, Chinese, Biryani, Hyderabadi   \n",
       "3                            Tibetan, Chinese   \n",
       "4                                    Desserts   \n",
       "\n",
       "                                     TIME     CITY        LOCALITY RATING  \\\n",
       "0  11am – 4pm, 7:30pm – 11:30pm (Mon-Sun)    Thane  Dombivali East    3.6   \n",
       "1                    6pm – 11pm (Mon-Sun)  Chennai       Ramapuram    4.2   \n",
       "2     11am – 3:30pm, 7pm – 11pm (Mon-Sun)  Chennai      Saligramam    3.8   \n",
       "3                 11:30am – 1am (Mon-Sun)   Mumbai     Bandra West    4.1   \n",
       "4                    11am – 1am (Mon-Sun)   Mumbai     Lower Parel    3.8   \n",
       "\n",
       "       VOTES  COST   DATA  \n",
       "0   49 votes  1200  train  \n",
       "1   30 votes  1500  train  \n",
       "2  221 votes   800  train  \n",
       "3   24 votes   800  train  \n",
       "4  165 votes   300  train  "
      ]
     },
     "execution_count": 8,
     "metadata": {},
     "output_type": "execute_result"
    }
   ],
   "source": [
    "df.head()"
   ]
  },
  {
   "cell_type": "code",
   "execution_count": 9,
   "metadata": {},
   "outputs": [
    {
     "data": {
      "text/plain": [
       "(16921, 10)"
      ]
     },
     "execution_count": 9,
     "metadata": {},
     "output_type": "execute_result"
    }
   ],
   "source": [
    "df.shape"
   ]
  },
  {
   "cell_type": "code",
   "execution_count": 10,
   "metadata": {},
   "outputs": [
    {
     "name": "stdout",
     "output_type": "stream",
     "text": [
      "<class 'pandas.core.frame.DataFrame'>\n",
      "Int64Index: 16921 entries, 0 to 4230\n",
      "Data columns (total 10 columns):\n",
      " #   Column         Non-Null Count  Dtype \n",
      "---  ------         --------------  ----- \n",
      " 0   TITLE          16921 non-null  object\n",
      " 1   RESTAURANT_ID  16921 non-null  int64 \n",
      " 2   CUISINES       16921 non-null  object\n",
      " 3   TIME           16921 non-null  object\n",
      " 4   CITY           16774 non-null  object\n",
      " 5   LOCALITY       16793 non-null  object\n",
      " 6   RATING         16917 non-null  object\n",
      " 7   VOTES          15315 non-null  object\n",
      " 8   COST           16921 non-null  int64 \n",
      " 9   DATA           16921 non-null  object\n",
      "dtypes: int64(2), object(8)\n",
      "memory usage: 1.4+ MB\n"
     ]
    }
   ],
   "source": [
    "df.info()"
   ]
  },
  {
   "cell_type": "code",
   "execution_count": 11,
   "metadata": {},
   "outputs": [
    {
     "data": {
      "text/plain": [
       "TITLE               0\n",
       "RESTAURANT_ID       0\n",
       "CUISINES            0\n",
       "TIME                0\n",
       "CITY              147\n",
       "LOCALITY          128\n",
       "RATING              4\n",
       "VOTES            1606\n",
       "COST                0\n",
       "DATA                0\n",
       "dtype: int64"
      ]
     },
     "execution_count": 11,
     "metadata": {},
     "output_type": "execute_result"
    }
   ],
   "source": [
    "df.isnull().sum()"
   ]
  },
  {
   "cell_type": "code",
   "execution_count": 12,
   "metadata": {},
   "outputs": [
    {
     "data": {
      "text/plain": [
       "15574"
      ]
     },
     "execution_count": 12,
     "metadata": {},
     "output_type": "execute_result"
    }
   ],
   "source": [
    "df['RESTAURANT_ID'].nunique()"
   ]
  },
  {
   "cell_type": "code",
   "execution_count": 13,
   "metadata": {},
   "outputs": [
    {
     "data": {
      "text/plain": [
       "Chennai         2855\n",
       "Bangalore       2835\n",
       "Hyderabad       2458\n",
       "Mumbai          2311\n",
       "New Delhi       1754\n",
       "Kochi           1751\n",
       "Gurgaon          524\n",
       "Secunderabad     396\n",
       "Noida            274\n",
       "Navi Mumbai      222\n",
       "Name: CITY, dtype: int64"
      ]
     },
     "execution_count": 13,
     "metadata": {},
     "output_type": "execute_result"
    }
   ],
   "source": [
    "#city column\n",
    "df['CITY'].value_counts().head(10)"
   ]
  },
  {
   "cell_type": "code",
   "execution_count": 14,
   "metadata": {},
   "outputs": [
    {
     "data": {
      "text/plain": [
       "Gachibowli     216\n",
       "Indiranagar    187\n",
       "Kakkanad       175\n",
       "Kukatpally     171\n",
       "Madhapur       169\n",
       "Name: LOCALITY, dtype: int64"
      ]
     },
     "execution_count": 14,
     "metadata": {},
     "output_type": "execute_result"
    }
   ],
   "source": [
    "df['LOCALITY'].value_counts().head()"
   ]
  },
  {
   "cell_type": "code",
   "execution_count": 15,
   "metadata": {},
   "outputs": [],
   "source": [
    "df['CITY'].fillna('None',inplace=True)"
   ]
  },
  {
   "cell_type": "code",
   "execution_count": 16,
   "metadata": {},
   "outputs": [],
   "source": [
    "df['LOCALITY'].fillna('None',inplace=True)"
   ]
  },
  {
   "cell_type": "code",
   "execution_count": 17,
   "metadata": {},
   "outputs": [],
   "source": [
    "from sklearn.preprocessing import LabelEncoder\n",
    "le=LabelEncoder()\n",
    "\n",
    "df['CITY']=le.fit_transform(df['CITY'])\n",
    "\n",
    "df['LOCALITY']=le.fit_transform(df['LOCALITY'])"
   ]
  },
  {
   "cell_type": "code",
   "execution_count": 18,
   "metadata": {},
   "outputs": [
    {
     "data": {
      "text/html": [
       "<div>\n",
       "<style scoped>\n",
       "    .dataframe tbody tr th:only-of-type {\n",
       "        vertical-align: middle;\n",
       "    }\n",
       "\n",
       "    .dataframe tbody tr th {\n",
       "        vertical-align: top;\n",
       "    }\n",
       "\n",
       "    .dataframe thead th {\n",
       "        text-align: right;\n",
       "    }\n",
       "</style>\n",
       "<table border=\"1\" class=\"dataframe\">\n",
       "  <thead>\n",
       "    <tr style=\"text-align: right;\">\n",
       "      <th></th>\n",
       "      <th>COST</th>\n",
       "    </tr>\n",
       "    <tr>\n",
       "      <th>CITY</th>\n",
       "      <th></th>\n",
       "    </tr>\n",
       "  </thead>\n",
       "  <tbody>\n",
       "    <tr>\n",
       "      <th>0</th>\n",
       "      <td>300.000000</td>\n",
       "    </tr>\n",
       "    <tr>\n",
       "      <th>1</th>\n",
       "      <td>66.666667</td>\n",
       "    </tr>\n",
       "    <tr>\n",
       "      <th>2</th>\n",
       "      <td>400.000000</td>\n",
       "    </tr>\n",
       "    <tr>\n",
       "      <th>3</th>\n",
       "      <td>1200.000000</td>\n",
       "    </tr>\n",
       "    <tr>\n",
       "      <th>4</th>\n",
       "      <td>200.000000</td>\n",
       "    </tr>\n",
       "  </tbody>\n",
       "</table>\n",
       "</div>"
      ],
      "text/plain": [
       "             COST\n",
       "CITY             \n",
       "0      300.000000\n",
       "1       66.666667\n",
       "2      400.000000\n",
       "3     1200.000000\n",
       "4      200.000000"
      ]
     },
     "execution_count": 18,
     "metadata": {},
     "output_type": "execute_result"
    }
   ],
   "source": [
    "pd.pivot_table(df,index=['CITY'],values=['COST']).head()"
   ]
  },
  {
   "cell_type": "code",
   "execution_count": 19,
   "metadata": {},
   "outputs": [
    {
     "data": {
      "text/html": [
       "<div>\n",
       "<style scoped>\n",
       "    .dataframe tbody tr th:only-of-type {\n",
       "        vertical-align: middle;\n",
       "    }\n",
       "\n",
       "    .dataframe tbody tr th {\n",
       "        vertical-align: top;\n",
       "    }\n",
       "\n",
       "    .dataframe thead th {\n",
       "        text-align: right;\n",
       "    }\n",
       "</style>\n",
       "<table border=\"1\" class=\"dataframe\">\n",
       "  <thead>\n",
       "    <tr style=\"text-align: right;\">\n",
       "      <th></th>\n",
       "      <th>COST</th>\n",
       "    </tr>\n",
       "    <tr>\n",
       "      <th>LOCALITY</th>\n",
       "      <th></th>\n",
       "    </tr>\n",
       "  </thead>\n",
       "  <tbody>\n",
       "    <tr>\n",
       "      <th>0</th>\n",
       "      <td>200.0</td>\n",
       "    </tr>\n",
       "    <tr>\n",
       "      <th>1</th>\n",
       "      <td>0.0</td>\n",
       "    </tr>\n",
       "    <tr>\n",
       "      <th>2</th>\n",
       "      <td>300.0</td>\n",
       "    </tr>\n",
       "    <tr>\n",
       "      <th>3</th>\n",
       "      <td>150.0</td>\n",
       "    </tr>\n",
       "    <tr>\n",
       "      <th>4</th>\n",
       "      <td>400.0</td>\n",
       "    </tr>\n",
       "  </tbody>\n",
       "</table>\n",
       "</div>"
      ],
      "text/plain": [
       "           COST\n",
       "LOCALITY       \n",
       "0         200.0\n",
       "1           0.0\n",
       "2         300.0\n",
       "3         150.0\n",
       "4         400.0"
      ]
     },
     "execution_count": 19,
     "metadata": {},
     "output_type": "execute_result"
    }
   ],
   "source": [
    "pd.pivot_table(df,index=['LOCALITY'],values=['COST']).head()"
   ]
  },
  {
   "cell_type": "code",
   "execution_count": 20,
   "metadata": {},
   "outputs": [
    {
     "data": {
      "text/plain": [
       "count     16917\n",
       "unique       32\n",
       "top         3.9\n",
       "freq       1643\n",
       "Name: RATING, dtype: object"
      ]
     },
     "execution_count": 20,
     "metadata": {},
     "output_type": "execute_result"
    }
   ],
   "source": [
    "#rating column\n",
    "df['RATING'].describe()"
   ]
  },
  {
   "cell_type": "code",
   "execution_count": 21,
   "metadata": {},
   "outputs": [
    {
     "data": {
      "text/plain": [
       "array(['3.6', '4.2', '3.8', '4.1', '4.0', '4.3', '3.9', '3.3', '3.4', '-',\n",
       "       '4.5', '3.5', '4.4', '2.7', '3.7', '4.7', 'NEW', '3.1', '2.5',\n",
       "       '4.6', '2.8', nan, '3.0', '3.2', '2.6', '2.9', '4.9', '4.8', '2.4',\n",
       "       '2.3', '2.0', '2.1', '2.2'], dtype=object)"
      ]
     },
     "execution_count": 21,
     "metadata": {},
     "output_type": "execute_result"
    }
   ],
   "source": [
    "df['RATING'].unique()"
   ]
  },
  {
   "cell_type": "code",
   "execution_count": 22,
   "metadata": {},
   "outputs": [
    {
     "data": {
      "text/plain": [
       "3.9    1643\n",
       "3.8    1604\n",
       "4.0    1498\n",
       "3.7    1437\n",
       "3.6    1261\n",
       "4.1    1217\n",
       "3.5     988\n",
       "4.2     968\n",
       "NEW     930\n",
       "3.4     777\n",
       "4.3     740\n",
       "-       672\n",
       "3.3     485\n",
       "4.4     484\n",
       "3.2     349\n",
       "4.5     274\n",
       "3.1     263\n",
       "2.9     242\n",
       "3.0     229\n",
       "2.8     191\n",
       "4.6     184\n",
       "2.7     129\n",
       "4.7      90\n",
       "2.6      85\n",
       "2.5      51\n",
       "4.8      49\n",
       "4.9      28\n",
       "2.4      24\n",
       "2.3      15\n",
       "2.2       4\n",
       "2.1       4\n",
       "2.0       2\n",
       "Name: RATING, dtype: int64"
      ]
     },
     "execution_count": 22,
     "metadata": {},
     "output_type": "execute_result"
    }
   ],
   "source": [
    "df['RATING'].value_counts()"
   ]
  },
  {
   "cell_type": "code",
   "execution_count": 23,
   "metadata": {},
   "outputs": [],
   "source": [
    "df[\"RATING\"].replace('NEW',1.5,inplace=True)\n",
    "\n",
    "df[\"RATING\"].replace('-',1.0,inplace=True)"
   ]
  },
  {
   "cell_type": "code",
   "execution_count": 24,
   "metadata": {},
   "outputs": [],
   "source": [
    "df[\"RATING\"].fillna(0.5,inplace=True)"
   ]
  },
  {
   "cell_type": "code",
   "execution_count": 25,
   "metadata": {},
   "outputs": [
    {
     "data": {
      "text/plain": [
       "0"
      ]
     },
     "execution_count": 25,
     "metadata": {},
     "output_type": "execute_result"
    }
   ],
   "source": [
    "df['RATING'].isnull().sum()"
   ]
  },
  {
   "cell_type": "code",
   "execution_count": 26,
   "metadata": {},
   "outputs": [],
   "source": [
    "df['RATING']=df['RATING'].astype(float)"
   ]
  },
  {
   "cell_type": "code",
   "execution_count": 27,
   "metadata": {},
   "outputs": [
    {
     "name": "stdout",
     "output_type": "stream",
     "text": [
      "<class 'pandas.core.frame.DataFrame'>\n",
      "Int64Index: 16921 entries, 0 to 4230\n",
      "Data columns (total 10 columns):\n",
      " #   Column         Non-Null Count  Dtype  \n",
      "---  ------         --------------  -----  \n",
      " 0   TITLE          16921 non-null  object \n",
      " 1   RESTAURANT_ID  16921 non-null  int64  \n",
      " 2   CUISINES       16921 non-null  object \n",
      " 3   TIME           16921 non-null  object \n",
      " 4   CITY           16921 non-null  int32  \n",
      " 5   LOCALITY       16921 non-null  int32  \n",
      " 6   RATING         16921 non-null  float64\n",
      " 7   VOTES          15315 non-null  object \n",
      " 8   COST           16921 non-null  int64  \n",
      " 9   DATA           16921 non-null  object \n",
      "dtypes: float64(1), int32(2), int64(2), object(5)\n",
      "memory usage: 1.3+ MB\n"
     ]
    }
   ],
   "source": [
    "df.info()"
   ]
  },
  {
   "cell_type": "code",
   "execution_count": 28,
   "metadata": {},
   "outputs": [
    {
     "data": {
      "text/plain": [
       "44 votes      92\n",
       "22 votes      88\n",
       "6 votes       87\n",
       "29 votes      83\n",
       "28 votes      81\n",
       "              ..\n",
       "3027 votes     1\n",
       "2747 votes     1\n",
       "3369 votes     1\n",
       "1821 votes     1\n",
       "1835 votes     1\n",
       "Name: VOTES, Length: 2075, dtype: int64"
      ]
     },
     "execution_count": 28,
     "metadata": {},
     "output_type": "execute_result"
    }
   ],
   "source": [
    "#votes column\n",
    "df['VOTES'].value_counts()"
   ]
  },
  {
   "cell_type": "code",
   "execution_count": 29,
   "metadata": {},
   "outputs": [
    {
     "data": {
      "text/plain": [
       "1606"
      ]
     },
     "execution_count": 29,
     "metadata": {},
     "output_type": "execute_result"
    }
   ],
   "source": [
    "df['VOTES'].isnull().sum()"
   ]
  },
  {
   "cell_type": "code",
   "execution_count": 30,
   "metadata": {},
   "outputs": [
    {
     "data": {
      "text/plain": [
       "array(['49 votes', '30 votes', '221 votes', ..., '2159 votes',\n",
       "       '3807 votes', '1913 votes'], dtype=object)"
      ]
     },
     "execution_count": 30,
     "metadata": {},
     "output_type": "execute_result"
    }
   ],
   "source": [
    "df['VOTES'].unique()"
   ]
  },
  {
   "cell_type": "code",
   "execution_count": 31,
   "metadata": {},
   "outputs": [],
   "source": [
    "df['VOTES'].fillna('0',inplace=True)"
   ]
  },
  {
   "cell_type": "code",
   "execution_count": 32,
   "metadata": {},
   "outputs": [],
   "source": [
    "df['VOTES']=df['VOTES'].str.split(' ').str[0].astype(int)"
   ]
  },
  {
   "cell_type": "code",
   "execution_count": 33,
   "metadata": {},
   "outputs": [
    {
     "data": {
      "text/plain": [
       "<matplotlib.axes._subplots.AxesSubplot at 0x21829b4ebc8>"
      ]
     },
     "execution_count": 33,
     "metadata": {},
     "output_type": "execute_result"
    },
    {
     "data": {
      "image/png": "[encoded data removed]",
      "text/plain": [
       "<Figure size 432x288 with 1 Axes>"
      ]
     },
     "metadata": {
      "needs_background": "light"
     },
     "output_type": "display_data"
    }
   ],
   "source": [
    "sns.distplot(df['VOTES'])"
   ]
  },
  {
   "cell_type": "code",
   "execution_count": 34,
   "metadata": {},
   "outputs": [],
   "source": [
    "df['VOTES']=df['VOTES']+5\n",
    "from scipy.stats import boxcox\n",
    "df['VOTES']=boxcox(df['VOTES'],0)"
   ]
  },
  {
   "cell_type": "code",
   "execution_count": 35,
   "metadata": {},
   "outputs": [
    {
     "data": {
      "text/plain": [
       "5183"
      ]
     },
     "execution_count": 35,
     "metadata": {},
     "output_type": "execute_result"
    }
   ],
   "source": [
    "#cuisines column\n",
    "df['CUISINES'].nunique()"
   ]
  },
  {
   "cell_type": "code",
   "execution_count": 36,
   "metadata": {},
   "outputs": [
    {
     "data": {
      "text/plain": [
       "0                   Malwani, Goan, North Indian\n",
       "1                Asian, Modern Indian, Japanese\n",
       "2    North Indian, Chinese, Biryani, Hyderabadi\n",
       "3                              Tibetan, Chinese\n",
       "4                                      Desserts\n",
       "5       North Indian, Chinese, Seafood, Biryani\n",
       "6    Cafe, Chinese, Pizza, North Indian, Burger\n",
       "7                                      Bar Food\n",
       "8                    South Indian, North Indian\n",
       "9                                  North Indian\n",
       "Name: CUISINES, dtype: object"
      ]
     },
     "execution_count": 36,
     "metadata": {},
     "output_type": "execute_result"
    }
   ],
   "source": [
    "df['CUISINES'].head(10)"
   ]
  },
  {
   "cell_type": "code",
   "execution_count": 37,
   "metadata": {},
   "outputs": [],
   "source": [
    "df['CUISINES1']=df['CUISINES'].str.split(',').str[0]\n",
    "df['CUISINES2']=df['CUISINES'].str.split(',').str[1]\n",
    "df['CUISINES3']=df['CUISINES'].str.split(',').str[2]\n",
    "df['CUISINES4']=df['CUISINES'].str.split(',').str[3]\n",
    "df['CUISINES5']=df['CUISINES'].str.split(',').str[4]"
   ]
  },
  {
   "cell_type": "code",
   "execution_count": 38,
   "metadata": {},
   "outputs": [
    {
     "data": {
      "text/plain": [
       "TITLE                0\n",
       "RESTAURANT_ID        0\n",
       "CUISINES             0\n",
       "TIME                 0\n",
       "CITY                 0\n",
       "LOCALITY             0\n",
       "RATING               0\n",
       "VOTES                0\n",
       "COST                 0\n",
       "DATA                 0\n",
       "CUISINES1            0\n",
       "CUISINES2         4047\n",
       "CUISINES3         9330\n",
       "CUISINES4        13309\n",
       "CUISINES5        15550\n",
       "dtype: int64"
      ]
     },
     "execution_count": 38,
     "metadata": {},
     "output_type": "execute_result"
    }
   ],
   "source": [
    "df.isnull().sum()"
   ]
  },
  {
   "cell_type": "code",
   "execution_count": 39,
   "metadata": {},
   "outputs": [],
   "source": [
    "df['CUISINES2'].fillna('None',inplace=True)\n",
    "df['CUISINES3'].fillna('None',inplace=True)\n",
    "df['CUISINES4'].fillna('None',inplace=True)\n",
    "df['CUISINES5'].fillna('None',inplace=True)"
   ]
  },
  {
   "cell_type": "code",
   "execution_count": 40,
   "metadata": {},
   "outputs": [],
   "source": [
    "df['CUISINES1']=le.fit_transform(df['CUISINES1'])\n",
    "df['CUISINES2']=le.fit_transform(df['CUISINES2'])\n",
    "df['CUISINES3']=le.fit_transform(df['CUISINES3'])\n",
    "df['CUISINES4']=le.fit_transform(df['CUISINES4'])\n",
    "df['CUISINES5']=le.fit_transform(df['CUISINES5'])"
   ]
  },
  {
   "cell_type": "code",
   "execution_count": 41,
   "metadata": {},
   "outputs": [],
   "source": [
    "df.drop(['CUISINES'],axis=1,inplace=True)"
   ]
  },
  {
   "cell_type": "code",
   "execution_count": 42,
   "metadata": {},
   "outputs": [
    {
     "name": "stdout",
     "output_type": "stream",
     "text": [
      "<class 'pandas.core.frame.DataFrame'>\n",
      "Int64Index: 16921 entries, 0 to 4230\n",
      "Data columns (total 14 columns):\n",
      " #   Column         Non-Null Count  Dtype  \n",
      "---  ------         --------------  -----  \n",
      " 0   TITLE          16921 non-null  object \n",
      " 1   RESTAURANT_ID  16921 non-null  int64  \n",
      " 2   TIME           16921 non-null  object \n",
      " 3   CITY           16921 non-null  int32  \n",
      " 4   LOCALITY       16921 non-null  int32  \n",
      " 5   RATING         16921 non-null  float64\n",
      " 6   VOTES          16921 non-null  float64\n",
      " 7   COST           16921 non-null  int64  \n",
      " 8   DATA           16921 non-null  object \n",
      " 9   CUISINES1      16921 non-null  int32  \n",
      " 10  CUISINES2      16921 non-null  int32  \n",
      " 11  CUISINES3      16921 non-null  int32  \n",
      " 12  CUISINES4      16921 non-null  int32  \n",
      " 13  CUISINES5      16921 non-null  int32  \n",
      "dtypes: float64(2), int32(7), int64(2), object(3)\n",
      "memory usage: 1.5+ MB\n"
     ]
    }
   ],
   "source": [
    "df.info()"
   ]
  },
  {
   "cell_type": "code",
   "execution_count": 43,
   "metadata": {},
   "outputs": [
    {
     "data": {
      "text/plain": [
       "0        CASUAL DINING\n",
       "1    CASUAL DINING,BAR\n",
       "2        CASUAL DINING\n",
       "3          QUICK BITES\n",
       "4       DESSERT PARLOR\n",
       "Name: TITLE, dtype: object"
      ]
     },
     "execution_count": 43,
     "metadata": {},
     "output_type": "execute_result"
    }
   ],
   "source": [
    "#title column\n",
    "df['TITLE'].head()"
   ]
  },
  {
   "cell_type": "code",
   "execution_count": 44,
   "metadata": {},
   "outputs": [
    {
     "data": {
      "text/plain": [
       "123"
      ]
     },
     "execution_count": 44,
     "metadata": {},
     "output_type": "execute_result"
    }
   ],
   "source": [
    "df['TITLE'].nunique()"
   ]
  },
  {
   "cell_type": "code",
   "execution_count": 45,
   "metadata": {},
   "outputs": [
    {
     "data": {
      "text/plain": [
       "array(['CASUAL DINING', 'CASUAL DINING,BAR', 'QUICK BITES',\n",
       "       'DESSERT PARLOR', 'CAFÉ', 'MICROBREWERY',\n",
       "       'QUICK BITES,BEVERAGE SHOP', 'CASUAL DINING,IRANI CAFE',\n",
       "       'BAKERY,QUICK BITES', 'None', 'BAR,CASUAL DINING', 'BAR', 'PUB',\n",
       "       'BEVERAGE SHOP', 'FINE DINING', 'CAFÉ,QUICK BITES',\n",
       "       'BEVERAGE SHOP,DESSERT PARLOR', 'SWEET SHOP,QUICK BITES',\n",
       "       'DESSERT PARLOR,SWEET SHOP', 'BAKERY', 'BAKERY,DESSERT PARLOR',\n",
       "       'BAR,LOUNGE', 'FOOD COURT', 'LOUNGE',\n",
       "       'DESSERT PARLOR,BEVERAGE SHOP', 'LOUNGE,CASUAL DINING',\n",
       "       'FOOD TRUCK', 'QUICK BITES,FOOD COURT', 'SWEET SHOP',\n",
       "       'BEVERAGE SHOP,FOOD COURT', 'PUB,CASUAL DINING', 'MESS',\n",
       "       'MICROBREWERY,CASUAL DINING', 'CASUAL DINING,SWEET SHOP', 'KIOSK',\n",
       "       'QUICK BITES,KIOSK', 'CLUB', 'FINE DINING,BAR',\n",
       "       'DESSERT PARLOR,QUICK BITES', 'FOOD COURT,QUICK BITES',\n",
       "       'LOUNGE,CAFÉ', 'BAKERY,CONFECTIONERY', 'CASUAL DINING,CAFÉ',\n",
       "       'DHABA', 'CAFÉ,DESSERT PARLOR', 'QUICK BITES,DESSERT PARLOR',\n",
       "       'PUB,MICROBREWERY', 'LOUNGE,BAR', 'DESSERT PARLOR,CAFÉ',\n",
       "       'CAFÉ,BAR', 'SWEET SHOP,CONFECTIONERY', 'CASUAL DINING,PUB',\n",
       "       'MICROBREWERY,BAR', 'DESSERT PARLOR,BAKERY',\n",
       "       'QUICK BITES,SWEET SHOP', 'BEVERAGE SHOP,QUICK BITES',\n",
       "       'CASUAL DINING,LOUNGE', 'CASUAL DINING,CLUB', 'QUICK BITES,CAFÉ',\n",
       "       'BAR,CAFÉ', 'CAFÉ,CASUAL DINING', 'QUICK BITES,CASUAL DINING',\n",
       "       'CASUAL DINING,MICROBREWERY', 'CASUAL DINING,BAKERY',\n",
       "       'CAFÉ,BAKERY', 'MEAT SHOP', 'QUICK BITES,BAKERY',\n",
       "       'BAR,FINE DINING', 'SWEET SHOP,CASUAL DINING',\n",
       "       'MEAT SHOP,QUICK BITES', 'PUB,LOUNGE', 'BAKERY,CAFÉ',\n",
       "       'COCKTAIL BAR', 'FINE DINING,LOUNGE', 'CONFECTIONERY',\n",
       "       'QUICK BITES,BAR', 'BAKERY,FOOD COURT', 'PUB,BAR',\n",
       "       'DESSERT PARLOR,FOOD COURT', 'QUICK BITES,FOOD TRUCK',\n",
       "       'BAKERY,BEVERAGE SHOP', 'CLUB,BAR', 'BAKERY,SWEET SHOP',\n",
       "       'SWEET SHOP,BAKERY', 'CASUAL DINING,FOOD COURT', 'PAAN SHOP',\n",
       "       'BEVERAGE SHOP,CAFÉ', 'FOOD COURT,DESSERT PARLOR',\n",
       "       'CLUB,MICROBREWERY', 'CAFÉ,BEVERAGE SHOP',\n",
       "       'DESSERT PARLOR,PAAN SHOP', 'MICROBREWERY,LOUNGE', 'LOUNGE,CLUB',\n",
       "       'SWEET SHOP,DESSERT PARLOR', 'BAR,PUB',\n",
       "       'CONFECTIONERY,QUICK BITES', 'DESSERT PARLOR,KIOSK', 'LOUNGE,PUB',\n",
       "       'SWEET SHOP,BEVERAGE SHOP', 'FINE DINING,CAFÉ',\n",
       "       'BEVERAGE SHOP,CASUAL DINING', 'KIOSK,QUICK BITES',\n",
       "       'CASUAL DINING,DESSERT PARLOR', 'LOUNGE,FINE DINING', 'PUB,CAFÉ',\n",
       "       'CAFÉ,LOUNGE', 'BAR,CLUB', 'COCKTAIL BAR,CASUAL DINING',\n",
       "       'MICROBREWERY,PUB', 'CAFÉ,FINE DINING', 'KIOSK,FOOD COURT',\n",
       "       'LOUNGE,MICROBREWERY', 'BAR,MICROBREWERY',\n",
       "       'FOOD TRUCK,DESSERT PARLOR', 'IRANI CAFE,BAKERY',\n",
       "       'BAKERY,CASUAL DINING', 'PUB,FINE DINING', 'CAFÉ,FOOD COURT',\n",
       "       'FINE DINING,MICROBREWERY', 'CLUB,FINE DINING',\n",
       "       'QUICK BITES,MEAT SHOP', 'CLUB,CASUAL DINING', 'BHOJANALYA'],\n",
       "      dtype=object)"
      ]
     },
     "execution_count": 45,
     "metadata": {},
     "output_type": "execute_result"
    }
   ],
   "source": [
    "df['TITLE'].unique()"
   ]
  },
  {
   "cell_type": "code",
   "execution_count": 46,
   "metadata": {},
   "outputs": [
    {
     "data": {
      "text/plain": [
       "QUICK BITES                 5634\n",
       "CASUAL DINING               4910\n",
       "None                        1287\n",
       "CAFÉ                         830\n",
       "DESSERT PARLOR               508\n",
       "                            ... \n",
       "CLUB,MICROBREWERY              1\n",
       "BAR,CLUB                       1\n",
       "BEVERAGE SHOP,FOOD COURT       1\n",
       "CAFÉ,FINE DINING               1\n",
       "QUICK BITES,BAR                1\n",
       "Name: TITLE, Length: 123, dtype: int64"
      ]
     },
     "execution_count": 46,
     "metadata": {},
     "output_type": "execute_result"
    }
   ],
   "source": [
    "df['TITLE'].value_counts()"
   ]
  },
  {
   "cell_type": "code",
   "execution_count": 47,
   "metadata": {},
   "outputs": [],
   "source": [
    "df['TITLE1']=df['TITLE'].str.split(',').str[0]\n",
    "df['TITLE2']=df['TITLE'].str.split(',').str[1]"
   ]
  },
  {
   "cell_type": "code",
   "execution_count": 48,
   "metadata": {},
   "outputs": [],
   "source": [
    "df.fillna('None',inplace=True)"
   ]
  },
  {
   "cell_type": "code",
   "execution_count": 49,
   "metadata": {},
   "outputs": [],
   "source": [
    "df['TITLE1']=le.fit_transform(df['TITLE1'])\n",
    "df['TITLE2']=le.fit_transform(df['TITLE1'])"
   ]
  },
  {
   "cell_type": "code",
   "execution_count": 50,
   "metadata": {},
   "outputs": [],
   "source": [
    "df.drop(['TITLE'],axis=1,inplace=True)"
   ]
  },
  {
   "cell_type": "code",
   "execution_count": 51,
   "metadata": {},
   "outputs": [
    {
     "data": {
      "text/plain": [
       "RESTAURANT_ID    0\n",
       "TIME             0\n",
       "CITY             0\n",
       "LOCALITY         0\n",
       "RATING           0\n",
       "VOTES            0\n",
       "COST             0\n",
       "DATA             0\n",
       "CUISINES1        0\n",
       "CUISINES2        0\n",
       "CUISINES3        0\n",
       "CUISINES4        0\n",
       "CUISINES5        0\n",
       "TITLE1           0\n",
       "TITLE2           0\n",
       "dtype: int64"
      ]
     },
     "execution_count": 51,
     "metadata": {},
     "output_type": "execute_result"
    }
   ],
   "source": [
    "df.isnull().sum()"
   ]
  },
  {
   "cell_type": "code",
   "execution_count": 52,
   "metadata": {},
   "outputs": [
    {
     "name": "stdout",
     "output_type": "stream",
     "text": [
      "<class 'pandas.core.frame.DataFrame'>\n",
      "Int64Index: 16921 entries, 0 to 4230\n",
      "Data columns (total 15 columns):\n",
      " #   Column         Non-Null Count  Dtype  \n",
      "---  ------         --------------  -----  \n",
      " 0   RESTAURANT_ID  16921 non-null  int64  \n",
      " 1   TIME           16921 non-null  object \n",
      " 2   CITY           16921 non-null  int32  \n",
      " 3   LOCALITY       16921 non-null  int32  \n",
      " 4   RATING         16921 non-null  float64\n",
      " 5   VOTES          16921 non-null  float64\n",
      " 6   COST           16921 non-null  int64  \n",
      " 7   DATA           16921 non-null  object \n",
      " 8   CUISINES1      16921 non-null  int32  \n",
      " 9   CUISINES2      16921 non-null  int32  \n",
      " 10  CUISINES3      16921 non-null  int32  \n",
      " 11  CUISINES4      16921 non-null  int32  \n",
      " 12  CUISINES5      16921 non-null  int32  \n",
      " 13  TITLE1         16921 non-null  int32  \n",
      " 14  TITLE2         16921 non-null  int64  \n",
      "dtypes: float64(2), int32(8), int64(3), object(2)\n",
      "memory usage: 1.5+ MB\n"
     ]
    }
   ],
   "source": [
    "df.info()"
   ]
  },
  {
   "cell_type": "code",
   "execution_count": 53,
   "metadata": {},
   "outputs": [],
   "source": [
    "df.drop(['TIME'],axis=1,inplace=True)\n",
    "\n",
    "df.drop(['RESTAURANT_ID'],axis=1,inplace=True)"
   ]
  },
  {
   "cell_type": "code",
   "execution_count": 54,
   "metadata": {},
   "outputs": [
    {
     "data": {
      "text/html": [
       "<div>\n",
       "<style scoped>\n",
       "    .dataframe tbody tr th:only-of-type {\n",
       "        vertical-align: middle;\n",
       "    }\n",
       "\n",
       "    .dataframe tbody tr th {\n",
       "        vertical-align: top;\n",
       "    }\n",
       "\n",
       "    .dataframe thead th {\n",
       "        text-align: right;\n",
       "    }\n",
       "</style>\n",
       "<table border=\"1\" class=\"dataframe\">\n",
       "  <thead>\n",
       "    <tr style=\"text-align: right;\">\n",
       "      <th></th>\n",
       "      <th>CITY</th>\n",
       "      <th>LOCALITY</th>\n",
       "      <th>RATING</th>\n",
       "      <th>VOTES</th>\n",
       "      <th>COST</th>\n",
       "      <th>CUISINES1</th>\n",
       "      <th>CUISINES2</th>\n",
       "      <th>CUISINES3</th>\n",
       "      <th>CUISINES4</th>\n",
       "      <th>CUISINES5</th>\n",
       "      <th>TITLE1</th>\n",
       "      <th>TITLE2</th>\n",
       "    </tr>\n",
       "  </thead>\n",
       "  <tbody>\n",
       "    <tr>\n",
       "      <th>0</th>\n",
       "      <td>401</td>\n",
       "      <td>328</td>\n",
       "      <td>3.6</td>\n",
       "      <td>3.988984</td>\n",
       "      <td>1200</td>\n",
       "      <td>61</td>\n",
       "      <td>32</td>\n",
       "      <td>71</td>\n",
       "      <td>89</td>\n",
       "      <td>83</td>\n",
       "      <td>5</td>\n",
       "      <td>5</td>\n",
       "    </tr>\n",
       "    <tr>\n",
       "      <th>1</th>\n",
       "      <td>75</td>\n",
       "      <td>1215</td>\n",
       "      <td>4.2</td>\n",
       "      <td>3.555348</td>\n",
       "      <td>1500</td>\n",
       "      <td>6</td>\n",
       "      <td>62</td>\n",
       "      <td>45</td>\n",
       "      <td>89</td>\n",
       "      <td>83</td>\n",
       "      <td>5</td>\n",
       "      <td>5</td>\n",
       "    </tr>\n",
       "    <tr>\n",
       "      <th>2</th>\n",
       "      <td>75</td>\n",
       "      <td>1273</td>\n",
       "      <td>3.8</td>\n",
       "      <td>5.420535</td>\n",
       "      <td>800</td>\n",
       "      <td>74</td>\n",
       "      <td>23</td>\n",
       "      <td>14</td>\n",
       "      <td>34</td>\n",
       "      <td>83</td>\n",
       "      <td>5</td>\n",
       "      <td>5</td>\n",
       "    </tr>\n",
       "    <tr>\n",
       "      <th>3</th>\n",
       "      <td>277</td>\n",
       "      <td>161</td>\n",
       "      <td>4.1</td>\n",
       "      <td>3.367296</td>\n",
       "      <td>800</td>\n",
       "      <td>102</td>\n",
       "      <td>23</td>\n",
       "      <td>100</td>\n",
       "      <td>89</td>\n",
       "      <td>83</td>\n",
       "      <td>23</td>\n",
       "      <td>23</td>\n",
       "    </tr>\n",
       "    <tr>\n",
       "      <th>4</th>\n",
       "      <td>277</td>\n",
       "      <td>709</td>\n",
       "      <td>3.8</td>\n",
       "      <td>5.135798</td>\n",
       "      <td>300</td>\n",
       "      <td>30</td>\n",
       "      <td>100</td>\n",
       "      <td>100</td>\n",
       "      <td>89</td>\n",
       "      <td>83</td>\n",
       "      <td>9</td>\n",
       "      <td>9</td>\n",
       "    </tr>\n",
       "  </tbody>\n",
       "</table>\n",
       "</div>"
      ],
      "text/plain": [
       "   CITY  LOCALITY  RATING     VOTES  COST  CUISINES1  CUISINES2  CUISINES3  \\\n",
       "0   401       328     3.6  3.988984  1200         61         32         71   \n",
       "1    75      1215     4.2  3.555348  1500          6         62         45   \n",
       "2    75      1273     3.8  5.420535   800         74         23         14   \n",
       "3   277       161     4.1  3.367296   800        102         23        100   \n",
       "4   277       709     3.8  5.135798   300         30        100        100   \n",
       "\n",
       "   CUISINES4  CUISINES5  TITLE1  TITLE2  \n",
       "0         89         83       5       5  \n",
       "1         89         83       5       5  \n",
       "2         34         83       5       5  \n",
       "3         89         83      23      23  \n",
       "4         89         83       9       9  "
      ]
     },
     "execution_count": 54,
     "metadata": {},
     "output_type": "execute_result"
    }
   ],
   "source": [
    "Trainfinal=df.loc[df['DATA']=='train']\n",
    "Trainfinal.drop(['DATA'],axis=1,inplace=True)\n",
    "Trainfinal.head()"
   ]
  },
  {
   "cell_type": "code",
   "execution_count": 55,
   "metadata": {},
   "outputs": [
    {
     "data": {
      "text/plain": [
       "<matplotlib.axes._subplots.AxesSubplot at 0x21829123b08>"
      ]
     },
     "execution_count": 55,
     "metadata": {},
     "output_type": "execute_result"
    },
    {
     "data": {
      "image/png": "[encoded data removed]",
      "text/plain": [
       "<Figure size 432x288 with 1 Axes>"
      ]
     },
     "metadata": {
      "needs_background": "light"
     },
     "output_type": "display_data"
    }
   ],
   "source": [
    "sns.distplot(Trainfinal['COST'])"
   ]
  },
  {
   "cell_type": "code",
   "execution_count": 56,
   "metadata": {},
   "outputs": [],
   "source": [
    "Trainfinal['COST']=boxcox(Trainfinal['COST'],0)"
   ]
  },
  {
   "cell_type": "code",
   "execution_count": 57,
   "metadata": {},
   "outputs": [],
   "source": [
    "Testfinal=df.loc[df['DATA']=='test']\n",
    "Testfinal.drop(['COST'],axis=1,inplace=True)\n",
    "Testfinal.drop(['DATA'],axis=1,inplace=True)"
   ]
  },
  {
   "cell_type": "code",
   "execution_count": 58,
   "metadata": {},
   "outputs": [
    {
     "data": {
      "text/html": [
       "<div>\n",
       "<style scoped>\n",
       "    .dataframe tbody tr th:only-of-type {\n",
       "        vertical-align: middle;\n",
       "    }\n",
       "\n",
       "    .dataframe tbody tr th {\n",
       "        vertical-align: top;\n",
       "    }\n",
       "\n",
       "    .dataframe thead th {\n",
       "        text-align: right;\n",
       "    }\n",
       "</style>\n",
       "<table border=\"1\" class=\"dataframe\">\n",
       "  <thead>\n",
       "    <tr style=\"text-align: right;\">\n",
       "      <th></th>\n",
       "      <th>CITY</th>\n",
       "      <th>LOCALITY</th>\n",
       "      <th>RATING</th>\n",
       "      <th>VOTES</th>\n",
       "      <th>CUISINES1</th>\n",
       "      <th>CUISINES2</th>\n",
       "      <th>CUISINES3</th>\n",
       "      <th>CUISINES4</th>\n",
       "      <th>CUISINES5</th>\n",
       "      <th>TITLE1</th>\n",
       "      <th>TITLE2</th>\n",
       "    </tr>\n",
       "  </thead>\n",
       "  <tbody>\n",
       "    <tr>\n",
       "      <th>0</th>\n",
       "      <td>323</td>\n",
       "      <td>1315</td>\n",
       "      <td>4.3</td>\n",
       "      <td>6.343880</td>\n",
       "      <td>74</td>\n",
       "      <td>23</td>\n",
       "      <td>67</td>\n",
       "      <td>43</td>\n",
       "      <td>83</td>\n",
       "      <td>5</td>\n",
       "      <td>5</td>\n",
       "    </tr>\n",
       "    <tr>\n",
       "      <th>1</th>\n",
       "      <td>277</td>\n",
       "      <td>429</td>\n",
       "      <td>4.2</td>\n",
       "      <td>4.189655</td>\n",
       "      <td>92</td>\n",
       "      <td>28</td>\n",
       "      <td>77</td>\n",
       "      <td>64</td>\n",
       "      <td>83</td>\n",
       "      <td>23</td>\n",
       "      <td>23</td>\n",
       "    </tr>\n",
       "    <tr>\n",
       "      <th>2</th>\n",
       "      <td>277</td>\n",
       "      <td>774</td>\n",
       "      <td>3.8</td>\n",
       "      <td>5.872118</td>\n",
       "      <td>74</td>\n",
       "      <td>83</td>\n",
       "      <td>14</td>\n",
       "      <td>19</td>\n",
       "      <td>83</td>\n",
       "      <td>5</td>\n",
       "      <td>5</td>\n",
       "    </tr>\n",
       "    <tr>\n",
       "      <th>3</th>\n",
       "      <td>128</td>\n",
       "      <td>846</td>\n",
       "      <td>3.8</td>\n",
       "      <td>7.279319</td>\n",
       "      <td>15</td>\n",
       "      <td>100</td>\n",
       "      <td>100</td>\n",
       "      <td>89</td>\n",
       "      <td>83</td>\n",
       "      <td>20</td>\n",
       "      <td>20</td>\n",
       "    </tr>\n",
       "    <tr>\n",
       "      <th>4</th>\n",
       "      <td>216</td>\n",
       "      <td>570</td>\n",
       "      <td>3.6</td>\n",
       "      <td>3.332205</td>\n",
       "      <td>92</td>\n",
       "      <td>48</td>\n",
       "      <td>100</td>\n",
       "      <td>89</td>\n",
       "      <td>83</td>\n",
       "      <td>23</td>\n",
       "      <td>23</td>\n",
       "    </tr>\n",
       "  </tbody>\n",
       "</table>\n",
       "</div>"
      ],
      "text/plain": [
       "   CITY  LOCALITY  RATING     VOTES  CUISINES1  CUISINES2  CUISINES3  \\\n",
       "0   323      1315     4.3  6.343880         74         23         67   \n",
       "1   277       429     4.2  4.189655         92         28         77   \n",
       "2   277       774     3.8  5.872118         74         83         14   \n",
       "3   128       846     3.8  7.279319         15        100        100   \n",
       "4   216       570     3.6  3.332205         92         48        100   \n",
       "\n",
       "   CUISINES4  CUISINES5  TITLE1  TITLE2  \n",
       "0         43         83       5       5  \n",
       "1         64         83      23      23  \n",
       "2         19         83       5       5  \n",
       "3         89         83      20      20  \n",
       "4         89         83      23      23  "
      ]
     },
     "execution_count": 58,
     "metadata": {},
     "output_type": "execute_result"
    }
   ],
   "source": [
    "Testfinal.head()"
   ]
  },
  {
   "cell_type": "code",
   "execution_count": 59,
   "metadata": {},
   "outputs": [
    {
     "data": {
      "text/html": [
       "<div>\n",
       "<style scoped>\n",
       "    .dataframe tbody tr th:only-of-type {\n",
       "        vertical-align: middle;\n",
       "    }\n",
       "\n",
       "    .dataframe tbody tr th {\n",
       "        vertical-align: top;\n",
       "    }\n",
       "\n",
       "    .dataframe thead th {\n",
       "        text-align: right;\n",
       "    }\n",
       "</style>\n",
       "<table border=\"1\" class=\"dataframe\">\n",
       "  <thead>\n",
       "    <tr style=\"text-align: right;\">\n",
       "      <th></th>\n",
       "      <th>CITY</th>\n",
       "      <th>LOCALITY</th>\n",
       "      <th>RATING</th>\n",
       "      <th>VOTES</th>\n",
       "      <th>CUISINES1</th>\n",
       "      <th>CUISINES2</th>\n",
       "      <th>CUISINES3</th>\n",
       "      <th>CUISINES4</th>\n",
       "      <th>CUISINES5</th>\n",
       "      <th>TITLE1</th>\n",
       "      <th>TITLE2</th>\n",
       "    </tr>\n",
       "  </thead>\n",
       "  <tbody>\n",
       "    <tr>\n",
       "      <th>0</th>\n",
       "      <td>401</td>\n",
       "      <td>328</td>\n",
       "      <td>3.6</td>\n",
       "      <td>3.988984</td>\n",
       "      <td>61</td>\n",
       "      <td>32</td>\n",
       "      <td>71</td>\n",
       "      <td>89</td>\n",
       "      <td>83</td>\n",
       "      <td>5</td>\n",
       "      <td>5</td>\n",
       "    </tr>\n",
       "    <tr>\n",
       "      <th>1</th>\n",
       "      <td>75</td>\n",
       "      <td>1215</td>\n",
       "      <td>4.2</td>\n",
       "      <td>3.555348</td>\n",
       "      <td>6</td>\n",
       "      <td>62</td>\n",
       "      <td>45</td>\n",
       "      <td>89</td>\n",
       "      <td>83</td>\n",
       "      <td>5</td>\n",
       "      <td>5</td>\n",
       "    </tr>\n",
       "    <tr>\n",
       "      <th>2</th>\n",
       "      <td>75</td>\n",
       "      <td>1273</td>\n",
       "      <td>3.8</td>\n",
       "      <td>5.420535</td>\n",
       "      <td>74</td>\n",
       "      <td>23</td>\n",
       "      <td>14</td>\n",
       "      <td>34</td>\n",
       "      <td>83</td>\n",
       "      <td>5</td>\n",
       "      <td>5</td>\n",
       "    </tr>\n",
       "    <tr>\n",
       "      <th>3</th>\n",
       "      <td>277</td>\n",
       "      <td>161</td>\n",
       "      <td>4.1</td>\n",
       "      <td>3.367296</td>\n",
       "      <td>102</td>\n",
       "      <td>23</td>\n",
       "      <td>100</td>\n",
       "      <td>89</td>\n",
       "      <td>83</td>\n",
       "      <td>23</td>\n",
       "      <td>23</td>\n",
       "    </tr>\n",
       "    <tr>\n",
       "      <th>4</th>\n",
       "      <td>277</td>\n",
       "      <td>709</td>\n",
       "      <td>3.8</td>\n",
       "      <td>5.135798</td>\n",
       "      <td>30</td>\n",
       "      <td>100</td>\n",
       "      <td>100</td>\n",
       "      <td>89</td>\n",
       "      <td>83</td>\n",
       "      <td>9</td>\n",
       "      <td>9</td>\n",
       "    </tr>\n",
       "  </tbody>\n",
       "</table>\n",
       "</div>"
      ],
      "text/plain": [
       "   CITY  LOCALITY  RATING     VOTES  CUISINES1  CUISINES2  CUISINES3  \\\n",
       "0   401       328     3.6  3.988984         61         32         71   \n",
       "1    75      1215     4.2  3.555348          6         62         45   \n",
       "2    75      1273     3.8  5.420535         74         23         14   \n",
       "3   277       161     4.1  3.367296        102         23        100   \n",
       "4   277       709     3.8  5.135798         30        100        100   \n",
       "\n",
       "   CUISINES4  CUISINES5  TITLE1  TITLE2  \n",
       "0         89         83       5       5  \n",
       "1         89         83       5       5  \n",
       "2         34         83       5       5  \n",
       "3         89         83      23      23  \n",
       "4         89         83       9       9  "
      ]
     },
     "execution_count": 59,
     "metadata": {},
     "output_type": "execute_result"
    }
   ],
   "source": [
    "x=Trainfinal.drop(['COST'],axis=1)\n",
    "x.head()"
   ]
  },
  {
   "cell_type": "code",
   "execution_count": 60,
   "metadata": {},
   "outputs": [],
   "source": [
    "from sklearn.preprocessing import StandardScaler\n",
    "ss=StandardScaler()\n",
    "x=ss.fit_transform(x)"
   ]
  },
  {
   "cell_type": "code",
   "execution_count": 61,
   "metadata": {},
   "outputs": [
    {
     "data": {
      "text/plain": [
       "0    7.090077\n",
       "1    7.313220\n",
       "2    6.684612\n",
       "3    6.684612\n",
       "4    5.703782\n",
       "Name: COST, dtype: float64"
      ]
     },
     "execution_count": 61,
     "metadata": {},
     "output_type": "execute_result"
    }
   ],
   "source": [
    "y=Trainfinal['COST']\n",
    "y.head()"
   ]
  },
  {
   "cell_type": "code",
   "execution_count": 62,
   "metadata": {},
   "outputs": [],
   "source": [
    "from sklearn.model_selection import train_test_split,cross_val_score\n",
    "\n",
    "x_train,x_test,y_train,y_test=train_test_split(x,y,test_size=0.3,random_state=97)"
   ]
  },
  {
   "cell_type": "code",
   "execution_count": 63,
   "metadata": {},
   "outputs": [],
   "source": [
    "from sklearn.linear_model import LinearRegression,Lasso,Ridge,ElasticNet\n",
    "from sklearn.tree import DecisionTreeRegressor\n",
    "from sklearn.neighbors import KNeighborsRegressor\n",
    "from sklearn.ensemble import RandomForestRegressor,AdaBoostRegressor,GradientBoostingRegressor\n",
    "from sklearn.metrics import r2_score,mean_squared_error\n"
   ]
  },
  {
   "cell_type": "code",
   "execution_count": 64,
   "metadata": {},
   "outputs": [],
   "source": [
    "LR=LinearRegression()\n",
    "LA=Lasso()\n",
    "RI=Ridge()\n",
    "EN=ElasticNet()\n",
    "KNR=KNeighborsRegressor()\n",
    "DTR=DecisionTreeRegressor(random_state=97)\n",
    "ABR=AdaBoostRegressor(random_state=97)\n",
    "RFR=RandomForestRegressor(random_state=97)\n",
    "GBR=GradientBoostingRegressor(random_state=97)"
   ]
  },
  {
   "cell_type": "code",
   "execution_count": 65,
   "metadata": {},
   "outputs": [],
   "source": [
    "models=[]\n",
    "models.append(('LinearRegression',LR))\n",
    "models.append(('Lasso',LA))\n",
    "models.append(('Ridge',RI))\n",
    "models.append(('ElasticNet',EN))\n",
    "models.append(('DecisionTreeRegressor',DTR))\n",
    "models.append(('KNeighborsRegressor',KNR))\n",
    "models.append(('AdaBoostRegressor',ABR))\n",
    "models.append(('RandomForestRegressor',RFR))\n",
    "models.append(('GradientBoostingRegressor',GBR))"
   ]
  },
  {
   "cell_type": "code",
   "execution_count": 66,
   "metadata": {},
   "outputs": [
    {
     "name": "stdout",
     "output_type": "stream",
     "text": [
      "********************************* LinearRegression *********************************\n",
      "\n",
      " LinearRegression()\n",
      "R2_score =  0.33882964651379754\n",
      "Mean_Squared_Error = 0.3510734292975331\n",
      "Cross_Val_Score =  0.33376265635579644\n",
      "\n",
      "\n",
      "********************************* Lasso *********************************\n",
      "\n",
      " Lasso()\n",
      "R2_score =  -3.5179274142871364e-05\n",
      "Mean_Squared_Error = 0.5310065370516848\n",
      "Cross_Val_Score =  -0.000917289212167427\n",
      "\n",
      "\n",
      "********************************* Ridge *********************************\n",
      "\n",
      " Ridge()\n",
      "R2_score =  0.3388289689779369\n",
      "Mean_Squared_Error = 0.35107378906084796\n",
      "Cross_Val_Score =  0.3337627703794671\n",
      "\n",
      "\n",
      "********************************* ElasticNet *********************************\n",
      "\n",
      " ElasticNet()\n",
      "R2_score =  -3.5179274142871364e-05\n",
      "Mean_Squared_Error = 0.5310065370516848\n",
      "Cross_Val_Score =  -0.000917289212167427\n",
      "\n",
      "\n",
      "********************************* DecisionTreeRegressor *********************************\n",
      "\n",
      " DecisionTreeRegressor(random_state=97)\n",
      "R2_score =  0.43354929960941935\n",
      "Mean_Squared_Error = 0.3007784436575779\n",
      "Cross_Val_Score =  0.431655808031969\n",
      "\n",
      "\n",
      "********************************* KNeighborsRegressor *********************************\n",
      "\n",
      " KNeighborsRegressor()\n",
      "R2_score =  0.437972933506368\n",
      "Mean_Squared_Error = 0.298429547773227\n",
      "Cross_Val_Score =  0.4611783706602792\n",
      "\n",
      "\n",
      "********************************* AdaBoostRegressor *********************************\n",
      "\n",
      " AdaBoostRegressor(random_state=97)\n",
      "R2_score =  0.5043798691649184\n",
      "Mean_Squared_Error = 0.2631682712990778\n",
      "Cross_Val_Score =  0.4840318134878224\n",
      "\n",
      "\n",
      "********************************* RandomForestRegressor *********************************\n",
      "\n",
      " RandomForestRegressor(random_state=97)\n",
      "R2_score =  0.6930652603541414\n",
      "Mean_Squared_Error = 0.16297861973066488\n",
      "Cross_Val_Score =  0.6992142335247606\n",
      "\n",
      "\n",
      "********************************* GradientBoostingRegressor *********************************\n",
      "\n",
      " GradientBoostingRegressor(random_state=97)\n",
      "R2_score =  0.6790686328397764\n",
      "Mean_Squared_Error = 0.17041065898372382\n",
      "Cross_Val_Score =  0.6793261804457865\n",
      "\n",
      "\n"
     ]
    }
   ],
   "source": [
    "Model=[]\n",
    "R2_score=[]\n",
    "cvs=[]\n",
    "MSE=[]\n",
    "for name,model in models:\n",
    "    print('*********************************',name,'*********************************')\n",
    "    print('\\n',model)\n",
    "    Model.append(name)\n",
    "    model.fit(x_train,y_train)\n",
    "    pre=model.predict(x_test)\n",
    "    r2=r2_score(y_test,pre)\n",
    "    print('R2_score = ',r2)\n",
    "    R2_score.append(r2)\n",
    "    mse=mean_squared_error(y_test,pre)\n",
    "    print(\"Mean_Squared_Error =\",mse)\n",
    "    MSE.append(round(mse,3))\n",
    "    score= cross_val_score(model,x,y,cv=10,scoring='r2').mean()\n",
    "    print('Cross_Val_Score = ',score)\n",
    "    cvs.append(score)\n",
    "    print('\\n')"
   ]
  },
  {
   "cell_type": "code",
   "execution_count": 67,
   "metadata": {},
   "outputs": [
    {
     "data": {
      "text/html": [
       "<div>\n",
       "<style scoped>\n",
       "    .dataframe tbody tr th:only-of-type {\n",
       "        vertical-align: middle;\n",
       "    }\n",
       "\n",
       "    .dataframe tbody tr th {\n",
       "        vertical-align: top;\n",
       "    }\n",
       "\n",
       "    .dataframe thead th {\n",
       "        text-align: right;\n",
       "    }\n",
       "</style>\n",
       "<table border=\"1\" class=\"dataframe\">\n",
       "  <thead>\n",
       "    <tr style=\"text-align: right;\">\n",
       "      <th></th>\n",
       "      <th>Model</th>\n",
       "      <th>R2_score</th>\n",
       "      <th>Mean_Squared_Error</th>\n",
       "      <th>Cross_val_score</th>\n",
       "    </tr>\n",
       "  </thead>\n",
       "  <tbody>\n",
       "    <tr>\n",
       "      <th>0</th>\n",
       "      <td>LinearRegression</td>\n",
       "      <td>0.338830</td>\n",
       "      <td>0.351</td>\n",
       "      <td>0.333763</td>\n",
       "    </tr>\n",
       "    <tr>\n",
       "      <th>1</th>\n",
       "      <td>Lasso</td>\n",
       "      <td>-0.000035</td>\n",
       "      <td>0.531</td>\n",
       "      <td>-0.000917</td>\n",
       "    </tr>\n",
       "    <tr>\n",
       "      <th>2</th>\n",
       "      <td>Ridge</td>\n",
       "      <td>0.338829</td>\n",
       "      <td>0.351</td>\n",
       "      <td>0.333763</td>\n",
       "    </tr>\n",
       "    <tr>\n",
       "      <th>3</th>\n",
       "      <td>ElasticNet</td>\n",
       "      <td>-0.000035</td>\n",
       "      <td>0.531</td>\n",
       "      <td>-0.000917</td>\n",
       "    </tr>\n",
       "    <tr>\n",
       "      <th>4</th>\n",
       "      <td>DecisionTreeRegressor</td>\n",
       "      <td>0.433549</td>\n",
       "      <td>0.301</td>\n",
       "      <td>0.431656</td>\n",
       "    </tr>\n",
       "    <tr>\n",
       "      <th>5</th>\n",
       "      <td>KNeighborsRegressor</td>\n",
       "      <td>0.437973</td>\n",
       "      <td>0.298</td>\n",
       "      <td>0.461178</td>\n",
       "    </tr>\n",
       "    <tr>\n",
       "      <th>6</th>\n",
       "      <td>AdaBoostRegressor</td>\n",
       "      <td>0.504380</td>\n",
       "      <td>0.263</td>\n",
       "      <td>0.484032</td>\n",
       "    </tr>\n",
       "    <tr>\n",
       "      <th>7</th>\n",
       "      <td>RandomForestRegressor</td>\n",
       "      <td>0.693065</td>\n",
       "      <td>0.163</td>\n",
       "      <td>0.699214</td>\n",
       "    </tr>\n",
       "    <tr>\n",
       "      <th>8</th>\n",
       "      <td>GradientBoostingRegressor</td>\n",
       "      <td>0.679069</td>\n",
       "      <td>0.170</td>\n",
       "      <td>0.679326</td>\n",
       "    </tr>\n",
       "  </tbody>\n",
       "</table>\n",
       "</div>"
      ],
      "text/plain": [
       "                       Model  R2_score  Mean_Squared_Error  Cross_val_score\n",
       "0           LinearRegression  0.338830               0.351         0.333763\n",
       "1                      Lasso -0.000035               0.531        -0.000917\n",
       "2                      Ridge  0.338829               0.351         0.333763\n",
       "3                 ElasticNet -0.000035               0.531        -0.000917\n",
       "4      DecisionTreeRegressor  0.433549               0.301         0.431656\n",
       "5        KNeighborsRegressor  0.437973               0.298         0.461178\n",
       "6          AdaBoostRegressor  0.504380               0.263         0.484032\n",
       "7      RandomForestRegressor  0.693065               0.163         0.699214\n",
       "8  GradientBoostingRegressor  0.679069               0.170         0.679326"
      ]
     },
     "execution_count": 67,
     "metadata": {},
     "output_type": "execute_result"
    }
   ],
   "source": [
    "result = pd.DataFrame({'Model': Model, 'R2_score': R2_score ,'Mean_Squared_Error' :MSE,'Cross_val_score':cvs})\n",
    "result"
   ]
  },
  {
   "cell_type": "code",
   "execution_count": 68,
   "metadata": {},
   "outputs": [
    {
     "data": {
      "text/plain": [
       "GridSearchCV(cv=10, estimator=GradientBoostingRegressor(random_state=97),\n",
       "             n_jobs=-1,\n",
       "             param_grid={'learning_rate': [0.1, 0.05, 0.02],\n",
       "                         'loss': ['ls', 'lad', 'huber', 'quantile'],\n",
       "                         'max_depth': [4, 3], 'max_features': [1.0],\n",
       "                         'min_samples_leaf': [3],\n",
       "                         'n_estimators': [100, 200, 300]})"
      ]
     },
     "execution_count": 68,
     "metadata": {},
     "output_type": "execute_result"
    }
   ],
   "source": [
    "from sklearn.model_selection import GridSearchCV\n",
    "parameterGBR={\n",
    "            'n_estimators':[100,200,300], \n",
    "            'loss':['ls', 'lad', 'huber', 'quantile'],\n",
    "            'learning_rate': [0.1,0.05,0.02],\n",
    "            'max_depth':[4,3], \n",
    "            'min_samples_leaf':[3], \n",
    "            'max_features':[1.0] \n",
    "            } \n",
    "gridGBR = GridSearchCV(GBR, param_grid=parameterGBR, n_jobs=-1, cv=10)\n",
    "gridGBR.fit(x_train, y_train)"
   ]
  },
  {
   "cell_type": "code",
   "execution_count": 69,
   "metadata": {},
   "outputs": [
    {
     "data": {
      "text/plain": [
       "(0.7245440548123172,\n",
       " {'learning_rate': 0.1,\n",
       "  'loss': 'ls',\n",
       "  'max_depth': 4,\n",
       "  'max_features': 1.0,\n",
       "  'min_samples_leaf': 3,\n",
       "  'n_estimators': 300})"
      ]
     },
     "execution_count": 69,
     "metadata": {},
     "output_type": "execute_result"
    }
   ],
   "source": [
    "gridGBR.best_score_ , gridGBR.best_params_"
   ]
  },
  {
   "cell_type": "code",
   "execution_count": 70,
   "metadata": {},
   "outputs": [],
   "source": [
    "GBR=GradientBoostingRegressor(learning_rate= 0.1,\n",
    "  loss='ls',\n",
    "  max_depth= 4,\n",
    "  max_features= 1.0,\n",
    "  min_samples_leaf= 3,\n",
    "  n_estimators= 300)\n",
    "GBR.fit(x_train,y_train)\n",
    "score=cross_val_score(GBR,x,y,cv=10,scoring='r2').mean()"
   ]
  },
  {
   "cell_type": "code",
   "execution_count": 71,
   "metadata": {},
   "outputs": [
    {
     "data": {
      "text/plain": [
       "0.7326726529030048"
      ]
     },
     "execution_count": 71,
     "metadata": {},
     "output_type": "execute_result"
    }
   ],
   "source": [
    "score\n"
   ]
  },
  {
   "cell_type": "code",
   "execution_count": 72,
   "metadata": {},
   "outputs": [
    {
     "data": {
      "text/plain": [
       "['foodcost.csv']"
      ]
     },
     "execution_count": 72,
     "metadata": {},
     "output_type": "execute_result"
    }
   ],
   "source": [
    "from sklearn import externals\n",
    "import joblib\n",
    "joblib.dump(GBR,'foodcost.csv')"
   ]
  },
  {
   "cell_type": "code",
   "execution_count": 73,
   "metadata": {},
   "outputs": [
    {
     "data": {
      "text/plain": [
       "array([4.92243133, 4.92243133, 4.92243133, ..., 4.92243133, 5.26854437,\n",
       "       4.92243133])"
      ]
     },
     "execution_count": 73,
     "metadata": {},
     "output_type": "execute_result"
    }
   ],
   "source": [
    "model=joblib.load(\"foodcost.csv\")\n",
    "model.predict(Testfinal)"
   ]
  },
  {
   "cell_type": "code",
   "execution_count": null,
   "metadata": {},
   "outputs": [],
   "source": []
  }
 ],
 "metadata": {
  "kernelspec": {
   "display_name": "Python 3",
   "language": "python",
   "name": "python3"
  },
  "language_info": {
   "codemirror_mode": {
    "name": "ipython",
    "version": 3
   },
   "file_extension": ".py",
   "mimetype": "text/x-python",
   "name": "python",
   "nbconvert_exporter": "python",
   "pygments_lexer": "ipython3",
   "version": "3.7.6"
  }
 },
 "nbformat": 4,
 "nbformat_minor": 4
}
